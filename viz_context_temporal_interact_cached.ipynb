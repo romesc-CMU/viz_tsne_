{
 "cells": [
  {
   "cell_type": "code",
   "execution_count": 7,
   "metadata": {},
   "outputs": [],
   "source": [
    "import sys\n",
    "sys.path.append('../')\n",
    "import plotly.graph_objs as go\n",
    "from plotly.subplots import make_subplots\n",
    "import numpy as np\n",
    "import torch\n",
    "import yaml\n",
    "import cv2\n",
    "\n",
    "from brutils import Namespace\n",
    "from torch.utils.data import DataLoader\n",
    "from traj_dataset import TrajDataset\n",
    "from models import * "
   ]
  },
  {
   "cell_type": "code",
   "execution_count": 8,
   "metadata": {},
   "outputs": [],
   "source": [
    "X_embedded = np.load('viz_cache/X_embedded.npz')\n",
    "contexts = np.load('viz_cache/contexts.npz')"
   ]
  },
  {
   "cell_type": "code",
   "execution_count": 9,
   "metadata": {},
   "outputs": [],
   "source": [
    "import plotly.graph_objs as go\n",
    "fig = go.FigureWidget(go.Scatter3d(\n",
    "                          x=X_embedded[:,0],\n",
    "                          y=X_embedded[:,1],\n",
    "                          z=X_embedded[:,2],\n",
    "                          mode='markers'\n",
    "                          )\n",
    "                      )"
   ]
  },
  {
   "cell_type": "code",
   "execution_count": 10,
   "metadata": {},
   "outputs": [],
   "source": [
    "#from plotly.callbacks import Points, InputDeviceState\n",
    "#points, state = Points(), InputDeviceState()\n",
    "scatter = fig['data'][0]\n",
    "\n",
    "color_weights = np.arange(0,100,100/12600)\n",
    "scatter['marker'] = dict({'size':1,'color':color_weights,'colorscale':'Viridis'})\n",
    "fig.layout.title = 't-SNE dims=3, perplexity=200, num_iter=5000'\n",
    "fig.layout.hovermode='closest'\n",
    "scatter.text = [str(i) for i in range(0,12600)]\n",
    "scatter.hoverinfo = 'text'\n",
    "\n",
    "from ipywidgets import HTML\n",
    "details = HTML()\n",
    "details\n",
    "\n",
    "from ipywidgets import Image, Layout\n",
    "success, enc_img = cv2.imencode('.png', np.stack((contexts[0,:,:])*3, axis=-1))\n",
    "image_widget = Image(\n",
    "    value = enc_img.tobytes(),\n",
    "    layout = Layout(height='300px', width='300px')\n",
    ")\n",
    "image_widget\n",
    "\n",
    "def hover_fn(trace, points, state):\n",
    "\n",
    "    ind = points.point_inds[0]\n",
    "    \n",
    "    # Update details HTML widget\n",
    "    details.value = str(ind)\n",
    "    success, enc_img = cv2.imencode('.png', np.stack((contexts[ind,:,:],)*3, axis=-1))\n",
    "    image_widget.value = enc_img.tobytes()\n",
    "\n",
    "scatter.on_hover(hover_fn)\n"
   ]
  },
  {
   "cell_type": "code",
   "execution_count": 26,
   "metadata": {},
   "outputs": [
    {
     "data": {
      "application/vnd.jupyter.widget-view+json": {
       "model_id": "17281e17a29340c49ee0f46d1428dad2",
       "version_major": 2,
       "version_minor": 0
      },
      "text/plain": [
       "HBox(children=(FigureWidget({\n",
       "    'data': [{'hoverinfo': 'text',\n",
       "              'marker': {'color': array([0.00…"
      ]
     },
     "metadata": {},
     "output_type": "display_data"
    }
   ],
   "source": [
    "from ipywidgets import HBox, VBox\n",
    "HBox([fig,VBox([image_widget],layout=Layout(padding='100px 10px 10px 10px'))])"
   ]
  },
  {
   "cell_type": "code",
   "execution_count": null,
   "metadata": {},
   "outputs": [],
   "source": [
    "import plotly.io as pio\n",
    "pio.write_html(fig, 'index.html')"
   ]
  },
  {
   "cell_type": "code",
   "execution_count": null,
   "metadata": {},
   "outputs": [],
   "source": []
  }
 ],
 "metadata": {
  "kernelspec": {
   "display_name": "Python 3",
   "language": "python",
   "name": "python3"
  },
  "language_info": {
   "codemirror_mode": {
    "name": "ipython",
    "version": 3
   },
   "file_extension": ".py",
   "mimetype": "text/x-python",
   "name": "python",
   "nbconvert_exporter": "python",
   "pygments_lexer": "ipython3",
   "version": "3.8.0"
  }
 },
 "nbformat": 4,
 "nbformat_minor": 4
}
